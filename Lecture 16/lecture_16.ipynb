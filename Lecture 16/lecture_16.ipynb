{
  "cells": [
    {
      "cell_type": "code",
      "execution_count": 1,
      "metadata": {
        "collapsed": false
      },
      "outputs": [],
      "source": [
        "import os\n",
        "\n",
        "os.environ[\"DGLBACKEND\"] = \"pytorch\"\n",
        "import dgl\n",
        "import dgl.data\n",
        "import torch\n",
        "import torch.nn as nn\n",
        "import torch.nn.functional as F"
      ]
    },
    {
      "cell_type": "code",
      "execution_count": 2,
      "metadata": {
        "collapsed": false
      },
      "outputs": [
        {
          "name": "stdout",
          "output_type": "stream",
          "text": [
            "  NumNodes: 2708\n",
            "  NumEdges: 10556\n",
            "  NumFeats: 1433\n",
            "  NumClasses: 7\n",
            "  NumTrainingSamples: 140\n",
            "  NumValidationSamples: 500\n",
            "  NumTestSamples: 1000\n",
            "Done loading data from cached files.\n",
            "Number of categories: 7\n"
          ]
        }
      ],
      "source": [
        "dataset = dgl.data.CoraGraphDataset()\n",
        "print(f\"Number of categories: {dataset.num_classes}\")"
      ]
    },
    {
      "cell_type": "markdown",
      "metadata": {},
      "source": [
        "A DGL Dataset object may contain one or multiple graphs. The Cora\n",
        "dataset used in this tutorial only consists of one single graph.\n",
        "\n",
        "\n"
      ]
    },
    {
      "cell_type": "code",
      "execution_count": 3,
      "metadata": {
        "collapsed": false
      },
      "outputs": [],
      "source": [
        "g = dataset[0]"
      ]
    },
    {
      "cell_type": "markdown",
      "metadata": {},
      "source": [
        "A DGL graph can store node features and edge features in two\n",
        "dictionary-like attributes called ``ndata`` and ``edata``.\n",
        "In the DGL Cora dataset, the graph contains the following node features:\n",
        "\n",
        "- ``train_mask``: A boolean tensor indicating whether the node is in the\n",
        "  training set.\n",
        "\n",
        "- ``val_mask``: A boolean tensor indicating whether the node is in the\n",
        "  validation set.\n",
        "\n",
        "- ``test_mask``: A boolean tensor indicating whether the node is in the\n",
        "  test set.\n",
        "\n",
        "- ``label``: The ground truth node category.\n",
        "\n",
        "-  ``feat``: The node features.\n",
        "\n",
        "\n"
      ]
    },
    {
      "cell_type": "code",
      "execution_count": 4,
      "metadata": {
        "collapsed": false
      },
      "outputs": [
        {
          "name": "stdout",
          "output_type": "stream",
          "text": [
            "Node features\n",
            "{'feat': tensor([[0., 0., 0.,  ..., 0., 0., 0.],\n",
            "        [0., 0., 0.,  ..., 0., 0., 0.],\n",
            "        [0., 0., 0.,  ..., 0., 0., 0.],\n",
            "        ...,\n",
            "        [0., 0., 0.,  ..., 0., 0., 0.],\n",
            "        [0., 0., 0.,  ..., 0., 0., 0.],\n",
            "        [0., 0., 0.,  ..., 0., 0., 0.]]), 'label': tensor([3, 4, 4,  ..., 3, 3, 3]), 'val_mask': tensor([False, False, False,  ..., False, False, False]), 'test_mask': tensor([False, False, False,  ...,  True,  True,  True]), 'train_mask': tensor([ True,  True,  True,  ..., False, False, False])}\n",
            "Edge features\n",
            "{}\n"
          ]
        }
      ],
      "source": [
        "print(\"Node features\")\n",
        "print(g.ndata)\n",
        "print(\"Edge features\")\n",
        "print(g.edata)"
      ]
    },
    {
      "cell_type": "code",
      "execution_count": 5,
      "metadata": {
        "collapsed": false
      },
      "outputs": [],
      "source": [
        "from dgl.nn import GraphConv\n",
        "\n",
        "\n",
        "class GCN(nn.Module):\n",
        "    def __init__(self, in_feats, h_feats, num_classes):\n",
        "        super(GCN, self).__init__()\n",
        "        self.conv1 = GraphConv(in_feats, h_feats)\n",
        "        self.conv2 = GraphConv(h_feats, num_classes)\n",
        "\n",
        "    def forward(self, g, in_feat):\n",
        "        h = self.conv1(g, in_feat)\n",
        "        h = F.relu(h)\n",
        "        h = self.conv2(g, h)\n",
        "        return h\n",
        "\n",
        "\n",
        "# Create the model with given dimensions\n",
        "model = GCN(g.ndata[\"feat\"].shape[1], 16, dataset.num_classes)"
      ]
    },
    {
      "cell_type": "markdown",
      "metadata": {},
      "source": [
        "DGL provides implementation of many popular neighbor aggregation\n",
        "modules. You can easily invoke them with one line of code.\n",
        "\n",
        "\n"
      ]
    },
    {
      "cell_type": "markdown",
      "metadata": {},
      "source": [
        "Training the GCN\n",
        "----------------\n",
        "\n",
        "Training this GCN is similar to training other PyTorch neural networks.\n",
        "\n",
        "\n"
      ]
    },
    {
      "cell_type": "code",
      "execution_count": 6,
      "metadata": {
        "collapsed": false
      },
      "outputs": [],
      "source": [
        "def train(g, model):\n",
        "    optimizer = torch.optim.Adam(model.parameters(), lr=0.01)\n",
        "    best_val_acc = 0\n",
        "    best_test_acc = 0\n",
        "\n",
        "    features = g.ndata[\"feat\"]\n",
        "    labels = g.ndata[\"label\"]\n",
        "    train_mask = g.ndata[\"train_mask\"]\n",
        "    val_mask = g.ndata[\"val_mask\"]\n",
        "    test_mask = g.ndata[\"test_mask\"]\n",
        "    for e in range(100):\n",
        "        # Forward\n",
        "        logits = model(g, features)\n",
        "\n",
        "        # Compute prediction\n",
        "        pred = logits.argmax(1)\n",
        "\n",
        "        # Compute loss\n",
        "        # Note that you should only compute the losses of the nodes in the training set.\n",
        "        loss = F.cross_entropy(logits[train_mask], labels[train_mask])\n",
        "\n",
        "        # Compute accuracy on training/validation/test\n",
        "        train_acc = (pred[train_mask] == labels[train_mask]).float().mean()\n",
        "        val_acc = (pred[val_mask] == labels[val_mask]).float().mean()\n",
        "        test_acc = (pred[test_mask] == labels[test_mask]).float().mean()\n",
        "\n",
        "        # Save the best validation accuracy and the corresponding test accuracy.\n",
        "        if best_val_acc < val_acc:\n",
        "            best_val_acc = val_acc\n",
        "            best_test_acc = test_acc\n",
        "\n",
        "        # Backward\n",
        "        optimizer.zero_grad()\n",
        "        loss.backward()\n",
        "        optimizer.step()\n",
        "\n",
        "        if e % 5 == 0:\n",
        "            print(\n",
        "                f\"In epoch {e}, loss: {loss:.3f}, val acc: {val_acc:.3f} (best {best_val_acc:.3f}), test acc: {test_acc:.3f} (best {best_test_acc:.3f})\"\n",
        "            )\n",
        "\n",
        "\n"
      ]
    },
    {
      "cell_type": "code",
      "execution_count": 7,
      "metadata": {},
      "outputs": [
        {
          "name": "stdout",
          "output_type": "stream",
          "text": [
            "In epoch 0, loss: 1.946, val acc: 0.072 (best 0.072), test acc: 0.098 (best 0.098)\n",
            "In epoch 5, loss: 1.892, val acc: 0.310 (best 0.310), test acc: 0.327 (best 0.327)\n",
            "In epoch 10, loss: 1.814, val acc: 0.436 (best 0.436), test acc: 0.430 (best 0.430)\n",
            "In epoch 15, loss: 1.710, val acc: 0.514 (best 0.514), test acc: 0.536 (best 0.536)\n",
            "In epoch 20, loss: 1.582, val acc: 0.566 (best 0.566), test acc: 0.583 (best 0.583)\n",
            "In epoch 25, loss: 1.433, val acc: 0.630 (best 0.630), test acc: 0.641 (best 0.641)\n",
            "In epoch 30, loss: 1.267, val acc: 0.678 (best 0.678), test acc: 0.688 (best 0.688)\n",
            "In epoch 35, loss: 1.092, val acc: 0.708 (best 0.708), test acc: 0.709 (best 0.709)\n",
            "In epoch 40, loss: 0.920, val acc: 0.726 (best 0.726), test acc: 0.729 (best 0.729)\n",
            "In epoch 45, loss: 0.758, val acc: 0.742 (best 0.742), test acc: 0.749 (best 0.746)\n",
            "In epoch 50, loss: 0.615, val acc: 0.752 (best 0.752), test acc: 0.757 (best 0.755)\n",
            "In epoch 55, loss: 0.493, val acc: 0.768 (best 0.768), test acc: 0.761 (best 0.761)\n",
            "In epoch 60, loss: 0.394, val acc: 0.778 (best 0.778), test acc: 0.771 (best 0.771)\n",
            "In epoch 65, loss: 0.316, val acc: 0.778 (best 0.778), test acc: 0.774 (best 0.771)\n",
            "In epoch 70, loss: 0.254, val acc: 0.774 (best 0.778), test acc: 0.780 (best 0.771)\n",
            "In epoch 75, loss: 0.207, val acc: 0.780 (best 0.780), test acc: 0.780 (best 0.780)\n",
            "In epoch 80, loss: 0.170, val acc: 0.784 (best 0.786), test acc: 0.783 (best 0.779)\n",
            "In epoch 85, loss: 0.141, val acc: 0.780 (best 0.786), test acc: 0.784 (best 0.779)\n",
            "In epoch 90, loss: 0.119, val acc: 0.782 (best 0.786), test acc: 0.787 (best 0.779)\n",
            "In epoch 95, loss: 0.101, val acc: 0.778 (best 0.786), test acc: 0.784 (best 0.779)\n"
          ]
        }
      ],
      "source": [
        "model = GCN(g.ndata[\"feat\"].shape[1], 16, dataset.num_classes)\n",
        "train(g, model)"
      ]
    },
    {
      "cell_type": "markdown",
      "metadata": {},
      "source": [
        "Training on GPU\n",
        "---------------\n",
        "\n",
        "Training on GPU requires to put both the model and the graph onto GPU\n",
        "with the ``to`` method, similar to what you will do in PyTorch.\n",
        "\n",
        ".. code:: python\n",
        "\n",
        "   g = g.to('cuda')\n",
        "   model = GCN(g.ndata['feat'].shape[1], 16, dataset.num_classes).to('cuda')\n",
        "   train(g, model)\n",
        "\n",
        "\n"
      ]
    }
  ],
  "metadata": {
    "kernelspec": {
      "display_name": "Python 3",
      "language": "python",
      "name": "python3"
    },
    "language_info": {
      "codemirror_mode": {
        "name": "ipython",
        "version": 3
      },
      "file_extension": ".py",
      "mimetype": "text/x-python",
      "name": "python",
      "nbconvert_exporter": "python",
      "pygments_lexer": "ipython3",
      "version": "3.9.13"
    }
  },
  "nbformat": 4,
  "nbformat_minor": 0
}
