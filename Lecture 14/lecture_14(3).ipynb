{
 "cells": [
  {
   "cell_type": "markdown",
   "metadata": {},
   "source": [
    "## DeepWalk详解\n",
    "\n",
    "[Paper:Tang J, Qu M, Wang M, et al. Line: Large-scale information network embedding](https://arxiv.org/pdf/1503.03578.pdf)"
   ]
  },
  {
   "cell_type": "code",
   "execution_count": 1,
   "metadata": {},
   "outputs": [],
   "source": [
    "from gensim.models import Word2Vec\n",
    "import pandas as pd\n",
    "import networkx as nx\n",
    "import random"
   ]
  },
  {
   "cell_type": "markdown",
   "metadata": {},
   "source": [
    "### 读取数据"
   ]
  },
  {
   "cell_type": "code",
   "execution_count": 2,
   "metadata": {},
   "outputs": [],
   "source": [
    "# 读取节点之间的边\n",
    "G = nx.read_edgelist('../../data/wiki/Wiki_edgelist.txt',\n",
    "                         create_using=nx.DiGraph(), nodetype=None,\n",
    "                         data=[('weight', int)])"
   ]
  },
  {
   "cell_type": "markdown",
   "metadata": {},
   "source": [
    "## 随机游走"
   ]
  },
  {
   "cell_type": "code",
   "execution_count": 5,
   "metadata": {},
   "outputs": [],
   "source": [
    "walker = RandomWalker(G, p=1, q=1, )"
   ]
  },
  {
   "cell_type": "markdown",
   "metadata": {},
   "source": [
    "#### 获取节点访问序列"
   ]
  },
  {
   "cell_type": "code",
   "execution_count": 6,
   "metadata": {},
   "outputs": [],
   "source": [
    "num_walks = 1\n",
    "walk_length = 3\n",
    "workers = 1\n",
    "sentences = walker.simulate_walks(\n",
    "            num_walks=num_walks, walk_length=walk_length, workers=workers, verbose=0)"
   ]
  },
  {
   "cell_type": "markdown",
   "metadata": {},
   "source": [
    "### 训练模型"
   ]
  },
  {
   "cell_type": "code",
   "execution_count": 9,
   "metadata": {},
   "outputs": [],
   "source": [
    "embed_size=128\n",
    "window_size=5\n",
    "workers=3\n",
    "iter=5\n",
    "kwargs = {}\n",
    "kwargs[\"sentences\"] = sentences\n",
    "kwargs[\"min_count\"] = 0\n",
    "kwargs[\"size\"] = embed_size\n",
    "kwargs[\"sg\"] = 1  # skip gram\n",
    "kwargs[\"hs\"] = 1  # deepwalk use Hierarchical Softmax\n",
    "kwargs[\"workers\"] = workers\n",
    "kwargs[\"window\"] = window_size\n",
    "kwargs[\"iter\"] = iter"
   ]
  },
  {
   "cell_type": "code",
   "execution_count": 11,
   "metadata": {},
   "outputs": [
    {
     "name": "stdout",
     "output_type": "stream",
     "text": [
      "Learning embedding vectors...\n",
      "Learning embedding vectors done!\n"
     ]
    }
   ],
   "source": [
    "print(\"Learning embedding vectors...\")\n",
    "model = Word2Vec(**kwargs)\n",
    "print(\"Learning embedding vectors done!\")"
   ]
  },
  {
   "cell_type": "markdown",
   "metadata": {},
   "source": [
    "### 生成嵌入向量"
   ]
  },
  {
   "cell_type": "code",
   "execution_count": 12,
   "metadata": {},
   "outputs": [],
   "source": [
    "embeddings = {}\n",
    "for word in G.nodes():\n",
    "    embeddings[word] = model.wv[word]"
   ]
  },
  {
   "cell_type": "code",
   "execution_count": 14,
   "metadata": {
    "collapsed": true
   },
   "outputs": [
    {
     "data": {
      "text/plain": [
       "array([-8.3426051e-03, -9.7931328e-04, -1.6034893e-03, -3.1504526e-03,\n",
       "       -7.4993455e-05,  1.1755643e-02, -2.0438435e-03, -1.0911431e-03,\n",
       "        6.9341655e-03,  2.0922110e-03, -7.6386416e-03, -1.0063763e-03,\n",
       "       -9.0222526e-03,  1.1107128e-03, -3.7842307e-03,  8.1276027e-03,\n",
       "        6.4620501e-03, -2.4647908e-03,  3.2307431e-03, -3.4814484e-03,\n",
       "        1.4803627e-03, -1.1866836e-02,  6.8992763e-03,  3.6213682e-03,\n",
       "        3.0801570e-04, -1.8231458e-03,  8.2952548e-03, -2.9112529e-03,\n",
       "        1.0556733e-03, -5.8907145e-03, -2.5527414e-03,  6.8176407e-03,\n",
       "       -1.4277349e-03, -8.1478739e-03,  3.6709043e-03,  1.6700079e-03,\n",
       "       -3.1968040e-04,  1.1473600e-03, -7.1786800e-03,  8.3548659e-03,\n",
       "        1.3978640e-04,  6.2810071e-04,  9.2273224e-03, -2.7269756e-03,\n",
       "        6.7464524e-04, -1.1362178e-02,  4.5905900e-03, -1.2667043e-02,\n",
       "        6.2176520e-03,  8.9974841e-03, -4.7857473e-03, -4.9619651e-03,\n",
       "        3.6171759e-03, -6.6841603e-03, -6.4186808e-03,  9.8616490e-04,\n",
       "        1.2427993e-03, -6.9575696e-03,  7.1813581e-03, -3.1985731e-03,\n",
       "       -8.5451584e-03,  3.3435877e-04, -7.6942978e-04, -6.4533679e-03,\n",
       "        6.8535535e-03,  5.9829867e-03, -3.0731319e-03,  5.8080623e-04,\n",
       "        2.7681631e-03, -1.4736017e-03, -1.5460181e-03,  3.9629964e-03,\n",
       "        7.8828754e-03, -3.9340551e-03,  3.7665767e-04,  7.4580163e-03,\n",
       "        1.5422212e-03,  1.6511944e-03,  9.8639475e-03, -7.6725573e-04,\n",
       "       -2.1871480e-03,  4.4824751e-03, -1.3300788e-02, -2.8065790e-03,\n",
       "       -7.6719881e-03,  3.3359253e-03, -3.7658392e-03,  4.8405007e-03,\n",
       "       -1.3094307e-03,  5.6166096e-05,  7.5696725e-03, -9.7616445e-03,\n",
       "        4.5212428e-03,  8.2333554e-03,  1.9712260e-03, -1.1980952e-02,\n",
       "        1.0695157e-02, -5.1204599e-03,  6.9747409e-03,  1.9374276e-03,\n",
       "        3.6814325e-03, -1.0411626e-03,  9.4573951e-04, -1.6031925e-03,\n",
       "        9.6136739e-04,  5.9380126e-03,  1.5342027e-03,  4.5985230e-03,\n",
       "        6.3120574e-03,  4.9064304e-03, -2.8040947e-03, -5.3104092e-03,\n",
       "       -5.3888797e-03, -1.1060671e-03,  4.4138227e-03, -5.6240655e-04,\n",
       "       -3.6025126e-03, -7.8660818e-03,  3.1468230e-03,  6.7319670e-03,\n",
       "       -2.9396790e-04,  5.4954207e-03, -2.5388170e-03, -4.8076934e-03,\n",
       "       -2.7541474e-03, -3.7130059e-03,  3.5086570e-03, -4.7279778e-03],\n",
       "      dtype=float32)"
      ]
     },
     "execution_count": 14,
     "metadata": {},
     "output_type": "execute_result"
    }
   ],
   "source": [
    "embeddings['362']"
   ]
  },
  {
   "cell_type": "markdown",
   "metadata": {},
   "source": [
    "### 评估"
   ]
  },
  {
   "cell_type": "code",
   "execution_count": 26,
   "metadata": {},
   "outputs": [],
   "source": [
    "from sklearn.manifold import TSNE\n",
    "import numpy as np\n",
    "from sklearn.linear_model import LogisticRegression\n",
    "import matplotlib.pyplot as plt"
   ]
  },
  {
   "cell_type": "code",
   "execution_count": 27,
   "metadata": {},
   "outputs": [],
   "source": [
    "def evaluate_embeddings(embeddings):\n",
    "    X, Y = read_node_label('../../data/wiki/wiki_labels.txt')\n",
    "    tr_frac = 0.8\n",
    "    print(\"Training classifier using {:.2f}% nodes...\".format(\n",
    "        tr_frac * 100))\n",
    "    clf = Classifier(embeddings=embeddings, clf=LogisticRegression())\n",
    "    clf.split_train_evaluate(X, Y, tr_frac)\n",
    "\n",
    "\n",
    "def plot_embeddings(embeddings,):\n",
    "    X, Y = read_node_label('../../data/wiki/wiki_labels.txt')\n",
    "\n",
    "    emb_list = []\n",
    "    for k in X:\n",
    "        emb_list.append(embeddings[k])\n",
    "    emb_list = np.array(emb_list)\n",
    "\n",
    "    model = TSNE(n_components=2)\n",
    "    node_pos = model.fit_transform(emb_list)\n",
    "\n",
    "    color_idx = {}\n",
    "    for i in range(len(X)):\n",
    "        color_idx.setdefault(Y[i][0], [])\n",
    "        color_idx[Y[i][0]].append(i)\n",
    "\n",
    "    for c, idx in color_idx.items():\n",
    "        plt.scatter(node_pos[idx, 0], node_pos[idx, 1], label=c)\n",
    "    plt.legend()\n",
    "    plt.show()\n"
   ]
  },
  {
   "cell_type": "code",
   "execution_count": 29,
   "metadata": {},
   "outputs": [
    {
     "name": "stdout",
     "output_type": "stream",
     "text": [
      "Training classifier using 80.00% nodes...\n"
     ]
    },
    {
     "name": "stderr",
     "output_type": "stream",
     "text": [
      "G:\\Anaconda\\lib\\site-packages\\sklearn\\metrics\\_classification.py:1515: UndefinedMetricWarning: F-score is ill-defined and being set to 0.0 in labels with no true nor predicted samples. Use `zero_division` parameter to control this behavior.\n",
      "  average, \"true nor predicted\", 'F-score is', len(true_sum)\n"
     ]
    },
    {
     "name": "stdout",
     "output_type": "stream",
     "text": [
      "-------------------\n",
      "{'micro': 0.16424116424116425, 'macro': 0.0258907401732286, 'samples': 0.16424116424116425, 'weighted': 0.06644278582858239, 'acc': 0.16424116424116425}\n"
     ]
    },
    {
     "data": {
      "image/png": "[encoded data removed]",
      "text/plain": [
       "<Figure size 432x288 with 1 Axes>"
      ]
     },
     "metadata": {
      "needs_background": "light"
     },
     "output_type": "display_data"
    }
   ],
   "source": [
    "evaluate_embeddings(embeddings)\n",
    "plot_embeddings(embeddings)"
   ]
  },
  {
   "cell_type": "markdown",
   "metadata": {},
   "source": [
    "## 定义随机游走"
   ]
  },
  {
   "cell_type": "code",
   "execution_count": 4,
   "metadata": {},
   "outputs": [],
   "source": [
    "class RandomWalker:\n",
    "    def __init__(self, G, p=1, q=1):\n",
    "        \"\"\"\n",
    "        :param G:\n",
    "        param p: 返回参数，控制立即重新遍历节点的可能性。.\n",
    "\n",
    "        param q: In-out参数，允许搜索区分“向内”和“向外”节点\n",
    "        \"\"\"\n",
    "        self.G = G\n",
    "        self.p = p\n",
    "        self.q = q\n",
    "    \n",
    "    # 选取节点的方式采用的是又放回的随机选取\n",
    "    # RandomWalk是一种可重复访问已访问节点的深度优先遍历\n",
    "    def deepwalk_walk(self, walk_length, start_node):\n",
    "#         开始节点\n",
    "        walk = [start_node]\n",
    "#         到达长度停止\n",
    "        while len(walk) < walk_length:\n",
    "            cur = walk[-1]\n",
    "#             获取当前节点中的邻居节点\n",
    "            cur_nbrs = list(self.G.neighbors(cur))\n",
    "            if len(cur_nbrs) > 0:\n",
    "#                 从邻居节点中随机获取一个节点\n",
    "                walk.append(random.choice(cur_nbrs))\n",
    "            else:\n",
    "                break\n",
    "        return walk\n",
    "\n",
    "    def simulate_walks(self, num_walks, walk_length, workers=1, verbose=0):\n",
    "#         :num_walks  将所有节点随机游走的次数\n",
    "#         :walk_length 每次游走的长度\n",
    "\n",
    "        G = self.G\n",
    "\n",
    "        nodes = list(G.nodes())\n",
    "        walks = self._simulate_walks(nodes,num_walks,walk_length)\n",
    "        \n",
    "#         多线程同时处理\n",
    "#         results = Parallel(n_jobs=workers, verbose=verbose, )(\n",
    "#         delayed(self._simulate_walks)(nodes, num, walk_length) for num in\n",
    "#         partition_num(num_walks, workers))\n",
    "\n",
    "#         walks = list(itertools.chain(*results))\n",
    "\n",
    "        return walks\n",
    "\n",
    "    def _simulate_walks(self, nodes, num_walks, walk_length,):\n",
    "#         :num_walks  将所有节点随机游走的次数\n",
    "#         :walk_length 每次游走的长度\n",
    "        walks = []\n",
    "        for _ in range(num_walks):\n",
    "            random.shuffle(nodes)\n",
    "            for v in nodes:\n",
    "                if self.p == 1 and self.q == 1:\n",
    "                    walks.append(self.deepwalk_walk(\n",
    "                        walk_length=walk_length, start_node=v))\n",
    "                else:\n",
    "                    walks.append(self.node2vec_walk(\n",
    "                        walk_length=walk_length, start_node=v))\n",
    "        return walks\n",
    "\n",
    "    def get_alias_edge(self, t, v):\n",
    "        \"\"\"\n",
    "        compute unnormalized transition probability between nodes v and its neighbors give the previous visited node t.\n",
    "        :param t:\n",
    "        :param v:\n",
    "        :return:\n",
    "        \"\"\"\n",
    "        G = self.G\n",
    "        p = self.p\n",
    "        q = self.q\n",
    "\n",
    "        unnormalized_probs = []\n",
    "        for x in G.neighbors(v):\n",
    "            weight = G[v][x].get('weight', 1.0)  # w_vx\n",
    "            if x == t:  # d_tx == 0\n",
    "                unnormalized_probs.append(weight/p)\n",
    "            elif G.has_edge(x, t):  # d_tx == 1\n",
    "                unnormalized_probs.append(weight)\n",
    "            else:  # d_tx > 1\n",
    "                unnormalized_probs.append(weight/q)\n",
    "        norm_const = sum(unnormalized_probs)\n",
    "        normalized_probs = [\n",
    "            float(u_prob)/norm_const for u_prob in unnormalized_probs]\n",
    "\n",
    "        return create_alias_table(normalized_probs)\n",
    "\n",
    "    def preprocess_transition_probs(self):\n",
    "        \"\"\"\n",
    "        Preprocessing of transition probabilities for guiding the random walks.\n",
    "        \"\"\"\n",
    "        G = self.G\n",
    "\n",
    "        alias_nodes = {}\n",
    "        for node in G.nodes():\n",
    "            unnormalized_probs = [G[node][nbr].get('weight', 1.0)\n",
    "                                  for nbr in G.neighbors(node)]\n",
    "            norm_const = sum(unnormalized_probs)\n",
    "            normalized_probs = [\n",
    "                float(u_prob)/norm_const for u_prob in unnormalized_probs]\n",
    "            alias_nodes[node] = create_alias_table(normalized_probs)\n",
    "\n",
    "        alias_edges = {}\n",
    "\n",
    "        for edge in G.edges():\n",
    "            alias_edges[edge] = self.get_alias_edge(edge[0], edge[1])\n",
    "\n",
    "        self.alias_nodes = alias_nodes\n",
    "        self.alias_edges = alias_edges\n",
    "\n",
    "        return\n"
   ]
  },
  {
   "cell_type": "markdown",
   "metadata": {},
   "source": [
    "### Classifier "
   ]
  },
  {
   "cell_type": "code",
   "execution_count": 16,
   "metadata": {},
   "outputs": [],
   "source": [
    "from __future__ import print_function\n",
    "\n",
    "\n",
    "import numpy\n",
    "from sklearn.metrics import f1_score, accuracy_score\n",
    "from sklearn.multiclass import OneVsRestClassifier\n",
    "from sklearn.preprocessing import MultiLabelBinarizer\n",
    "\n",
    "\n",
    "class TopKRanker(OneVsRestClassifier):\n",
    "    def predict(self, X, top_k_list):\n",
    "        probs = numpy.asarray(super(TopKRanker, self).predict_proba(X))\n",
    "        all_labels = []\n",
    "        for i, k in enumerate(top_k_list):\n",
    "            probs_ = probs[i, :]\n",
    "            labels = self.classes_[probs_.argsort()[-k:]].tolist()\n",
    "            probs_[:] = 0\n",
    "            probs_[labels] = 1\n",
    "            all_labels.append(probs_)\n",
    "        return numpy.asarray(all_labels)\n",
    "\n",
    "\n",
    "class Classifier(object):\n",
    "\n",
    "    def __init__(self, embeddings, clf):\n",
    "        self.embeddings = embeddings\n",
    "        self.clf = TopKRanker(clf)\n",
    "        self.binarizer = MultiLabelBinarizer(sparse_output=True)\n",
    "\n",
    "    def train(self, X, Y, Y_all):\n",
    "        self.binarizer.fit(Y_all)\n",
    "        X_train = [self.embeddings[x] for x in X]\n",
    "        Y = self.binarizer.transform(Y)\n",
    "        self.clf.fit(X_train, Y)\n",
    "\n",
    "    def evaluate(self, X, Y):\n",
    "        top_k_list = [len(l) for l in Y]\n",
    "        Y_ = self.predict(X, top_k_list)\n",
    "        Y = self.binarizer.transform(Y)\n",
    "        averages = [\"micro\", \"macro\", \"samples\", \"weighted\"]\n",
    "        results = {}\n",
    "        for average in averages:\n",
    "            results[average] = f1_score(Y, Y_, average=average)\n",
    "        results['acc'] = accuracy_score(Y,Y_)\n",
    "        print('-------------------')\n",
    "        print(results)\n",
    "        return results\n",
    "        print('-------------------')\n",
    "\n",
    "    def predict(self, X, top_k_list):\n",
    "        X_ = numpy.asarray([self.embeddings[x] for x in X])\n",
    "        Y = self.clf.predict(X_, top_k_list=top_k_list)\n",
    "        return Y\n",
    "\n",
    "    def split_train_evaluate(self, X, Y, train_precent, seed=0):\n",
    "        state = numpy.random.get_state()\n",
    "\n",
    "        training_size = int(train_precent * len(X))\n",
    "        numpy.random.seed(seed)\n",
    "        shuffle_indices = numpy.random.permutation(numpy.arange(len(X)))\n",
    "        X_train = [X[shuffle_indices[i]] for i in range(training_size)]\n",
    "        Y_train = [Y[shuffle_indices[i]] for i in range(training_size)]\n",
    "        X_test = [X[shuffle_indices[i]] for i in range(training_size, len(X))]\n",
    "        Y_test = [Y[shuffle_indices[i]] for i in range(training_size, len(X))]\n",
    "\n",
    "        self.train(X_train, Y_train, Y)\n",
    "        numpy.random.set_state(state)\n",
    "        return self.evaluate(X_test, Y_test)\n",
    "\n",
    "\n",
    "def read_node_label(filename, skip_head=False):\n",
    "    fin = open(filename, 'r')\n",
    "    X = []\n",
    "    Y = []\n",
    "    while 1:\n",
    "        if skip_head:\n",
    "            fin.readline()\n",
    "        l = fin.readline()\n",
    "        if l == '':\n",
    "            break\n",
    "        vec = l.strip().split(' ')\n",
    "        X.append(vec[0])\n",
    "        Y.append(vec[1:])\n",
    "    fin.close()\n",
    "    return X, Y"
   ]
  },
  {
   "cell_type": "code",
   "execution_count": null,
   "metadata": {},
   "outputs": [],
   "source": []
  }
 ],
 "metadata": {
  "kernelspec": {
   "display_name": "Python 3",
   "language": "python",
   "name": "python3"
  },
  "language_info": {
   "codemirror_mode": {
    "name": "ipython",
    "version": 3
   },
   "file_extension": ".py",
   "mimetype": "text/x-python",
   "name": "python",
   "nbconvert_exporter": "python",
   "pygments_lexer": "ipython3",
   "version": "3.7.6"
  }
 },
 "nbformat": 4,
 "nbformat_minor": 4
}
