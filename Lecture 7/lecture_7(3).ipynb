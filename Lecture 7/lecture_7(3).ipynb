{
  "cells": [
    {
      "cell_type": "code",
      "execution_count": null,
      "metadata": {
        "colab": {},
        "colab_type": "code",
        "id": "qUl5QuVeXYcx"
      },
      "outputs": [],
      "source": [
        "import warnings\n",
        "warnings.simplefilter(action='ignore', category=FutureWarning)\n",
        "\n",
        "\n",
        "import numpy as np\n",
        "import pandas as pd\n",
        "import seaborn as sns\n",
        "from pylab import rcParams\n",
        "import matplotlib.pyplot as plt\n",
        "import matplotlib.animation as animation\n",
        "from matplotlib import rc\n",
        "import unittest\n",
        "import math\n",
        "from sklearn import metrics\n",
        "from sklearn.tree import export_graphviz\n",
        "import IPython, graphviz, re\n",
        "\n",
        "%matplotlib inline\n",
        "\n",
        "sns.set(style='whitegrid', palette='muted', font_scale=1.5)\n",
        "\n",
        "rcParams['figure.figsize'] = 12, 6\n",
        "\n",
        "RANDOM_SEED = 42\n",
        "\n",
        "np.random.seed(RANDOM_SEED)\n",
        "\n",
        "\n",
        "def draw_tree(t, df, size=10, ratio=0.6, precision=0):\n",
        "    \"\"\" Draws a representation of a random forest in IPython.\n",
        "    Parameters:\n",
        "    -----------\n",
        "    t: The tree you wish to draw\n",
        "    df: The data used to train the tree. This is used to get the names of the features.\n",
        "    Source from: https://github.com/fastai/fastai/blob/e6b56de53f80d2b2d39037c82d3a23ce72507cd7/old/fastai/structured.py#L22\n",
        "    \"\"\"\n",
        "    s=export_graphviz(t, out_file=None, feature_names=df.columns, filled=True,\n",
        "                      special_characters=True, rotate=True, precision=precision)\n",
        "    IPython.display.display(graphviz.Source(re.sub('Tree {',\n",
        "       f'Tree {{ size={size}; ratio={ratio}', s)))"
      ]
    },
    {
      "cell_type": "markdown",
      "metadata": {
        "colab_type": "text",
        "id": "odnKwqUctlXX"
      },
      "source": [
        "# Load the data\n",
        "\n",
        "Data [House Prices: Advanced Regression Techniques](https://www.kaggle.com/c/house-prices-advanced-regression-techniques)"
      ]
    },
    {
      "cell_type": "code",
      "execution_count": null,
      "metadata": {
        "colab": {
          "base_uri": "https://localhost:8080/",
          "height": 391
        },
        "colab_type": "code",
        "id": "ulPEgkKLZPLx",
        "outputId": "870a8ebc-e645-4f65-84b4-d6510136897c"
      },
      "outputs": [
        {
          "name": "stdout",
          "output_type": "stream",
          "text": [
            "--2019-04-03 09:32:27--  https://raw.githubusercontent.com/Data-Science-FMI/ml-from-scratch-2019/master/data/house_prices_train.csv\n",
            "Resolving raw.githubusercontent.com (raw.githubusercontent.com)... 151.101.0.133, 151.101.64.133, 151.101.128.133, ...\n",
            "Connecting to raw.githubusercontent.com (raw.githubusercontent.com)|151.101.0.133|:443... connected.\n",
            "HTTP request sent, awaiting response... 200 OK\n",
            "Length: 460676 (450K) [text/plain]\n",
            "Saving to: ‘house_prices_train.csv.2’\n",
            "\n",
            "\rhouse_prices_train.   0%[                    ]       0  --.-KB/s               \rhouse_prices_train. 100%[===================>] 449.88K  --.-KB/s    in 0.04s   \n",
            "\n",
            "2019-04-03 09:32:28 (12.3 MB/s) - ‘house_prices_train.csv.2’ saved [460676/460676]\n",
            "\n",
            "--2019-04-03 09:32:31--  https://raw.githubusercontent.com/Data-Science-FMI/ml-from-scratch-2019/master/data/house_prices_test.csv\n",
            "Resolving raw.githubusercontent.com (raw.githubusercontent.com)... 151.101.0.133, 151.101.64.133, 151.101.128.133, ...\n",
            "Connecting to raw.githubusercontent.com (raw.githubusercontent.com)|151.101.0.133|:443... connected.\n",
            "HTTP request sent, awaiting response... 200 OK\n",
            "Length: 451405 (441K) [text/plain]\n",
            "Saving to: ‘house_prices_test.csv.2’\n",
            "\n",
            "house_prices_test.c 100%[===================>] 440.83K  --.-KB/s    in 0.04s   \n",
            "\n",
            "2019-04-03 09:32:31 (12.1 MB/s) - ‘house_prices_test.csv.2’ saved [451405/451405]\n",
            "\n"
          ]
        }
      ],
      "source": [
        "!wget https://raw.githubusercontent.com/Data-Science-FMI/ml-from-scratch-2019/master/data/house_prices_train.csv\n",
        "!wget https://raw.githubusercontent.com/Data-Science-FMI/ml-from-scratch-2019/master/data/house_prices_test.csv"
      ]
    },
    {
      "cell_type": "code",
      "execution_count": null,
      "metadata": {
        "colab": {},
        "colab_type": "code",
        "id": "uJV2KSJKZQ2Q"
      },
      "outputs": [],
      "source": [
        "df_train = pd.read_csv('house_prices_train.csv')\n",
        "df_test = pd.read_csv('house_prices_test.csv')"
      ]
    },
    {
      "cell_type": "markdown",
      "metadata": {
        "colab_type": "text",
        "id": "fwUmkYUStoz0"
      },
      "source": [
        "# Decision trees"
      ]
    },
    {
      "cell_type": "markdown",
      "metadata": {
        "colab_type": "text",
        "id": "wAoyCZdvstuf"
      },
      "source": [
        "![](https://www.xoriant.com/blog/wp-content/uploads/2017/08/Decision-Trees-modified-1.png)\n",
        "\n",
        "Decision tree models can be used for both classification and regression. The algorithms for building trees breaks down a data set into smaller and smaller subsets while at the same time an associated decision tree is incrementally developed. The final result is a tree with decision nodes and leaf nodes. A decision node has two or more branches. Leaf node represents a classification or decision (used for regression). The topmost decision node in a tree which corresponds to the best predictor (most important feature) is called a root node. Decision trees can handle both categorical and numerical data."
      ]
    },
    {
      "cell_type": "code",
      "execution_count": null,
      "metadata": {
        "colab": {},
        "colab_type": "code",
        "id": "0aGOfq3WZSh4"
      },
      "outputs": [],
      "source": [
        "X = df_train[['OverallQual', 'GrLivArea', 'GarageCars']]\n",
        "y = df_train['SalePrice']"
      ]
    },
    {
      "cell_type": "markdown",
      "metadata": {
        "colab_type": "text",
        "id": "RUWchJE7xPF4"
      },
      "source": [
        "# Cost function\n",
        "\n",
        "Root Mean Squared Error:\n",
        "\n",
        "$$RMSE =  \\sqrt{\\frac{1}{m} \\sum_{i=1}^{m} (y^{(i)} - h(x^{(i)}))^2}$$"
      ]
    },
    {
      "cell_type": "code",
      "execution_count": null,
      "metadata": {
        "colab": {},
        "colab_type": "code",
        "id": "pr2-tgH-xUg1"
      },
      "outputs": [],
      "source": [
        "from sklearn.metrics import mean_squared_error\n",
        "from math import sqrt\n",
        "\n",
        "def rmse(h, y):\n",
        "  return sqrt(mean_squared_error(h, y))"
      ]
    },
    {
      "cell_type": "markdown",
      "metadata": {
        "colab_type": "text",
        "id": "VtZqDfiZuZaR"
      },
      "source": [
        "# Using scikit-learn"
      ]
    },
    {
      "cell_type": "code",
      "execution_count": null,
      "metadata": {
        "colab": {
          "base_uri": "https://localhost:8080/",
          "height": 452
        },
        "colab_type": "code",
        "id": "ZeK6jxjuuevJ",
        "outputId": "a4564969-5e50-409c-dc40-a8cddf7343f8"
      },
      "outputs": [
        {
          "data": {
            "image/svg+xml": [
              "<?xml version=\"1.0\" encoding=\"UTF-8\" standalone=\"no\"?>\n",
              "<!DOCTYPE svg PUBLIC \"-//W3C//DTD SVG 1.1//EN\"\n",
              " \"http://www.w3.org/Graphics/SVG/1.1/DTD/svg11.dtd\">\n",
              "<!-- Generated by graphviz version 2.40.1 (20161225.0304)\n",
              " -->\n",
              "<!-- Title: Tree Pages: 1 -->\n",
              "<svg width=\"533pt\" height=\"323pt\"\n",
              " viewBox=\"0.00 0.00 533.00 323.00\" xmlns=\"http://www.w3.org/2000/svg\" xmlns:xlink=\"http://www.w3.org/1999/xlink\">\n",
              "<g id=\"graph0\" class=\"graph\" transform=\"scale(1 1) rotate(0) translate(4 319)\">\n",
              "<title>Tree</title>\n",
              "<polygon fill=\"#ffffff\" stroke=\"transparent\" points=\"-4,4 -4,-319 529,-319 529,4 -4,4\"/>\n",
              "<!-- 0 -->\n",
              "<g id=\"node1\" class=\"node\">\n",
              "<title>0</title>\n",
              "<polygon fill=\"#e58139\" fill-opacity=\"0.164706\" stroke=\"#000000\" points=\"148.5,-192.9167 -.5,-192.9167 -.5,-124.9167 148.5,-124.9167 148.5,-192.9167\"/>\n",
              "<text text-anchor=\"start\" x=\"22\" y=\"-177.7167\" font-family=\"Times,serif\" font-size=\"14.00\" fill=\"#000000\">OverallQual ≤ 7.5</text>\n",
              "<text text-anchor=\"start\" x=\"7.5\" y=\"-162.7167\" font-family=\"Times,serif\" font-size=\"14.00\" fill=\"#000000\">mse = 6306788585.35</text>\n",
              "<text text-anchor=\"start\" x=\"28.5\" y=\"-147.7167\" font-family=\"Times,serif\" font-size=\"14.00\" fill=\"#000000\">samples = 1460</text>\n",
              "<text text-anchor=\"start\" x=\"22.5\" y=\"-132.7167\" font-family=\"Times,serif\" font-size=\"14.00\" fill=\"#000000\">value = 180921.2</text>\n",
              "</g>\n",
              "<!-- 1 -->\n",
              "<g id=\"node2\" class=\"node\">\n",
              "<title>1</title>\n",
              "<polygon fill=\"#e58139\" fill-opacity=\"0.070588\" stroke=\"#000000\" points=\"333.5,-243.9167 184.5,-243.9167 184.5,-175.9167 333.5,-175.9167 333.5,-243.9167\"/>\n",
              "<text text-anchor=\"start\" x=\"207\" y=\"-228.7167\" font-family=\"Times,serif\" font-size=\"14.00\" fill=\"#000000\">OverallQual ≤ 6.5</text>\n",
              "<text text-anchor=\"start\" x=\"192.5\" y=\"-213.7167\" font-family=\"Times,serif\" font-size=\"14.00\" fill=\"#000000\">mse = 2426928665.05</text>\n",
              "<text text-anchor=\"start\" x=\"213.5\" y=\"-198.7167\" font-family=\"Times,serif\" font-size=\"14.00\" fill=\"#000000\">samples = 1231</text>\n",
              "<text text-anchor=\"start\" x=\"203.5\" y=\"-183.7167\" font-family=\"Times,serif\" font-size=\"14.00\" fill=\"#000000\">value = 157832.43</text>\n",
              "</g>\n",
              "<!-- 0&#45;&gt;1 -->\n",
              "<g id=\"edge1\" class=\"edge\">\n",
              "<title>0&#45;&gt;1</title>\n",
              "<path fill=\"none\" stroke=\"#000000\" d=\"M148.7133,-179.5133C157.2381,-181.8634 165.9723,-184.2712 174.6114,-186.6528\"/>\n",
              "<polygon fill=\"#000000\" stroke=\"#000000\" points=\"173.738,-190.0425 184.3085,-189.326 175.5983,-183.2942 173.738,-190.0425\"/>\n",
              "<text text-anchor=\"middle\" x=\"162.5685\" y=\"-197.97\" font-family=\"Times,serif\" font-size=\"14.00\" fill=\"#000000\">True</text>\n",
              "</g>\n",
              "<!-- 4 -->\n",
              "<g id=\"node5\" class=\"node\">\n",
              "<title>4</title>\n",
              "<polygon fill=\"#e58139\" fill-opacity=\"0.662745\" stroke=\"#000000\" points=\"333.5,-142.9167 184.5,-142.9167 184.5,-74.9167 333.5,-74.9167 333.5,-142.9167\"/>\n",
              "<text text-anchor=\"start\" x=\"207\" y=\"-127.7167\" font-family=\"Times,serif\" font-size=\"14.00\" fill=\"#000000\">OverallQual ≤ 8.5</text>\n",
              "<text text-anchor=\"start\" x=\"192.5\" y=\"-112.7167\" font-family=\"Times,serif\" font-size=\"14.00\" fill=\"#000000\">mse = 8893038849.98</text>\n",
              "<text text-anchor=\"start\" x=\"217\" y=\"-97.7167\" font-family=\"Times,serif\" font-size=\"14.00\" fill=\"#000000\">samples = 229</text>\n",
              "<text text-anchor=\"start\" x=\"207.5\" y=\"-82.7167\" font-family=\"Times,serif\" font-size=\"14.00\" fill=\"#000000\">value = 305035.9</text>\n",
              "</g>\n",
              "<!-- 0&#45;&gt;4 -->\n",
              "<g id=\"edge4\" class=\"edge\">\n",
              "<title>0&#45;&gt;4</title>\n",
              "<path fill=\"none\" stroke=\"#000000\" d=\"M148.7133,-138.7239C157.2381,-136.4199 165.9723,-134.0593 174.6114,-131.7244\"/>\n",
              "<polygon fill=\"#000000\" stroke=\"#000000\" points=\"175.5681,-135.0915 184.3085,-129.1035 173.7417,-128.3339 175.5681,-135.0915\"/>\n",
              "<text text-anchor=\"middle\" x=\"162.6309\" y=\"-112.9504\" font-family=\"Times,serif\" font-size=\"14.00\" fill=\"#000000\">False</text>\n",
              "</g>\n",
              "<!-- 2 -->\n",
              "<g id=\"node3\" class=\"node\">\n",
              "<title>2</title>\n",
              "<polygon fill=\"transparent\" stroke=\"#000000\" points=\"521,-310.4167 373,-310.4167 373,-257.4167 521,-257.4167 521,-310.4167\"/>\n",
              "<text text-anchor=\"start\" x=\"381\" y=\"-295.2167\" font-family=\"Times,serif\" font-size=\"14.00\" fill=\"#000000\">mse = 1411538921.04</text>\n",
              "<text text-anchor=\"start\" x=\"405\" y=\"-280.2167\" font-family=\"Times,serif\" font-size=\"14.00\" fill=\"#000000\">samples = 912</text>\n",
              "<text text-anchor=\"start\" x=\"391.5\" y=\"-265.2167\" font-family=\"Times,serif\" font-size=\"14.00\" fill=\"#000000\">value = 140383.98</text>\n",
              "</g>\n",
              "<!-- 1&#45;&gt;2 -->\n",
              "<g id=\"edge2\" class=\"edge\">\n",
              "<title>1&#45;&gt;2</title>\n",
              "<path fill=\"none\" stroke=\"#000000\" d=\"M333.5726,-239.2697C345.5446,-243.9821 357.9562,-248.8675 369.9841,-253.6019\"/>\n",
              "<polygon fill=\"#000000\" stroke=\"#000000\" points=\"368.9452,-256.9543 379.5322,-257.3602 371.5091,-250.4407 368.9452,-256.9543\"/>\n",
              "</g>\n",
              "<!-- 3 -->\n",
              "<g id=\"node4\" class=\"node\">\n",
              "<title>3</title>\n",
              "<polygon fill=\"#e58139\" fill-opacity=\"0.270588\" stroke=\"#000000\" points=\"521.5,-227.4167 372.5,-227.4167 372.5,-174.4167 521.5,-174.4167 521.5,-227.4167\"/>\n",
              "<text text-anchor=\"start\" x=\"380.5\" y=\"-212.2167\" font-family=\"Times,serif\" font-size=\"14.00\" fill=\"#000000\">mse = 1971049955.99</text>\n",
              "<text text-anchor=\"start\" x=\"405\" y=\"-197.2167\" font-family=\"Times,serif\" font-size=\"14.00\" fill=\"#000000\">samples = 319</text>\n",
              "<text text-anchor=\"start\" x=\"391.5\" y=\"-182.2167\" font-family=\"Times,serif\" font-size=\"14.00\" fill=\"#000000\">value = 207716.42</text>\n",
              "</g>\n",
              "<!-- 1&#45;&gt;3 -->\n",
              "<g id=\"edge3\" class=\"edge\">\n",
              "<title>1&#45;&gt;3</title>\n",
              "<path fill=\"none\" stroke=\"#000000\" d=\"M333.5726,-206.3467C342.908,-205.8998 352.5107,-205.4401 361.9904,-204.9863\"/>\n",
              "<polygon fill=\"#000000\" stroke=\"#000000\" points=\"362.3888,-208.4713 372.21,-204.497 362.0541,-201.4793 362.3888,-208.4713\"/>\n",
              "</g>\n",
              "<!-- 5 -->\n",
              "<g id=\"node6\" class=\"node\">\n",
              "<title>5</title>\n",
              "<polygon fill=\"#e58139\" fill-opacity=\"0.541176\" stroke=\"#000000\" points=\"521.5,-140.4167 372.5,-140.4167 372.5,-87.4167 521.5,-87.4167 521.5,-140.4167\"/>\n",
              "<text text-anchor=\"start\" x=\"380.5\" y=\"-125.2167\" font-family=\"Times,serif\" font-size=\"14.00\" fill=\"#000000\">mse = 4058765722.77</text>\n",
              "<text text-anchor=\"start\" x=\"405\" y=\"-110.2167\" font-family=\"Times,serif\" font-size=\"14.00\" fill=\"#000000\">samples = 168</text>\n",
              "<text text-anchor=\"start\" x=\"391.5\" y=\"-95.2167\" font-family=\"Times,serif\" font-size=\"14.00\" fill=\"#000000\">value = 274735.54</text>\n",
              "</g>\n",
              "<!-- 4&#45;&gt;5 -->\n",
              "<g id=\"edge5\" class=\"edge\">\n",
              "<title>4&#45;&gt;5</title>\n",
              "<path fill=\"none\" stroke=\"#000000\" d=\"M333.5726,-110.9C342.908,-111.1483 352.5107,-111.4037 361.9904,-111.6558\"/>\n",
              "<polygon fill=\"#000000\" stroke=\"#000000\" points=\"362.1205,-115.1604 372.21,-111.9276 362.3066,-108.1628 362.1205,-115.1604\"/>\n",
              "</g>\n",
              "<!-- 6 -->\n",
              "<g id=\"node7\" class=\"node\">\n",
              "<title>6</title>\n",
              "<polygon fill=\"#e58139\" stroke=\"#000000\" points=\"524.5,-57.4167 369.5,-57.4167 369.5,-4.4167 524.5,-4.4167 524.5,-57.4167\"/>\n",
              "<text text-anchor=\"start\" x=\"377.5\" y=\"-42.2167\" font-family=\"Times,serif\" font-size=\"14.00\" fill=\"#000000\">mse = 12714598711.22</text>\n",
              "<text text-anchor=\"start\" x=\"409\" y=\"-27.2167\" font-family=\"Times,serif\" font-size=\"14.00\" fill=\"#000000\">samples = 61</text>\n",
              "<text text-anchor=\"start\" x=\"391.5\" y=\"-12.2167\" font-family=\"Times,serif\" font-size=\"14.00\" fill=\"#000000\">value = 388486.08</text>\n",
              "</g>\n",
              "<!-- 4&#45;&gt;6 -->\n",
              "<g id=\"edge6\" class=\"edge\">\n",
              "<title>4&#45;&gt;6</title>\n",
              "<path fill=\"none\" stroke=\"#000000\" d=\"M333.5726,-77.977C346.6891,-72.535 360.3333,-66.8741 373.4224,-61.4435\"/>\n",
              "<polygon fill=\"#000000\" stroke=\"#000000\" points=\"374.9444,-64.6014 382.8397,-57.5364 372.2618,-58.1358 374.9444,-64.6014\"/>\n",
              "</g>\n",
              "</g>\n",
              "</svg>\n"
            ],
            "text/plain": [
              "<graphviz.files.Source at 0x7fc1bc124cf8>"
            ]
          },
          "metadata": {
            "tags": []
          },
          "output_type": "display_data"
        }
      ],
      "source": [
        "from sklearn.ensemble import RandomForestRegressor\n",
        "\n",
        "reg = RandomForestRegressor(n_estimators=1, max_depth=2, bootstrap=False, random_state=RANDOM_SEED)\n",
        "reg.fit(X, y)\n",
        "\n",
        "draw_tree(reg.estimators_[0], X, precision=2)"
      ]
    },
    {
      "cell_type": "code",
      "execution_count": null,
      "metadata": {
        "colab": {
          "base_uri": "https://localhost:8080/",
          "height": 34
        },
        "colab_type": "code",
        "id": "6APmkksowMX6",
        "outputId": "051dd06a-fdc5-4764-b7a3-52bf69a88d93"
      },
      "outputs": [
        {
          "data": {
            "text/plain": [
              "0.6336246655552089"
            ]
          },
          "execution_count": 8,
          "metadata": {
            "tags": []
          },
          "output_type": "execute_result"
        }
      ],
      "source": [
        "preds = reg.predict(X)\n",
        "metrics.r2_score(y, preds)"
      ]
    },
    {
      "cell_type": "code",
      "execution_count": null,
      "metadata": {
        "colab": {
          "base_uri": "https://localhost:8080/",
          "height": 34
        },
        "colab_type": "code",
        "id": "SVnU3NtMyg-0",
        "outputId": "a01d0c00-be71-49ae-fb98-c0afb141824a"
      },
      "outputs": [
        {
          "data": {
            "text/plain": [
              "48069.23940764968"
            ]
          },
          "execution_count": 9,
          "metadata": {
            "tags": []
          },
          "output_type": "execute_result"
        }
      ],
      "source": [
        "rmse(preds, y)"
      ]
    },
    {
      "cell_type": "markdown",
      "metadata": {
        "colab_type": "text",
        "id": "jThz0g-3uQHu"
      },
      "source": [
        "# Building our own Decision Tree\n",
        "\n",
        "We're going to split our tree based on information gain. Concretely, we will try to split every feature in a way that both groups have as low standard deviation as possible. In that way we're going to minimize the RMSE."
      ]
    },
    {
      "cell_type": "code",
      "execution_count": null,
      "metadata": {
        "colab": {},
        "colab_type": "code",
        "id": "pl7C-mu04spu"
      },
      "outputs": [],
      "source": [
        "class Node:\n",
        "\n",
        "    def __init__(self, x, y, idxs, min_leaf=5):\n",
        "        self.x = x \n",
        "        self.y = y\n",
        "        self.idxs = idxs \n",
        "        self.min_leaf = min_leaf\n",
        "        self.row_count = len(idxs)\n",
        "        self.col_count = x.shape[1]\n",
        "        self.val = np.mean(y[idxs])\n",
        "        self.score = float('inf')\n",
        "        self.find_varsplit()\n",
        "        \n",
        "    def find_varsplit(self):\n",
        "        for c in range(self.col_count): self.find_better_split(c)\n",
        "        if self.is_leaf: return\n",
        "        x = self.split_col\n",
        "        lhs = np.nonzero(x <= self.split)[0]\n",
        "        rhs = np.nonzero(x > self.split)[0]\n",
        "        self.lhs = Node(self.x, self.y, self.idxs[lhs], self.min_leaf)\n",
        "        self.rhs = Node(self.x, self.y, self.idxs[rhs], self.min_leaf)\n",
        "        \n",
        "    def find_better_split(self, var_idx):\n",
        "      \n",
        "        x = self.x.values[self.idxs, var_idx]\n",
        "\n",
        "        for r in range(self.row_count):\n",
        "            lhs = x <= x[r]\n",
        "            rhs = x > x[r]\n",
        "            if rhs.sum() < self.min_leaf or lhs.sum() < self.min_leaf: continue\n",
        "\n",
        "            curr_score = self.find_score(lhs, rhs)\n",
        "            if curr_score < self.score: \n",
        "                self.var_idx = var_idx\n",
        "                self.score = curr_score\n",
        "                self.split = x[r]\n",
        "                \n",
        "    def find_score(self, lhs, rhs):\n",
        "        y = self.y[self.idxs]\n",
        "        lhs_std = y[lhs].std()\n",
        "        rhs_std = y[rhs].std()\n",
        "        return lhs_std * lhs.sum() + rhs_std * rhs.sum()\n",
        "                \n",
        "    @property\n",
        "    def split_col(self): return self.x.values[self.idxs,self.var_idx]\n",
        "                \n",
        "    @property\n",
        "    def is_leaf(self): return self.score == float('inf')                \n",
        "\n",
        "    def predict(self, x):\n",
        "        return np.array([self.predict_row(xi) for xi in x])\n",
        "\n",
        "    def predict_row(self, xi):\n",
        "        if self.is_leaf: return self.val\n",
        "        node = self.lhs if xi[self.var_idx] <= self.split else self.rhs\n",
        "        return node.predict_row(xi)"
      ]
    },
    {
      "cell_type": "code",
      "execution_count": null,
      "metadata": {
        "colab": {},
        "colab_type": "code",
        "id": "az-uVislq4rr"
      },
      "outputs": [],
      "source": [
        "class DecisionTreeRegressor:\n",
        "  \n",
        "  def fit(self, X, y, min_leaf = 5):\n",
        "    self.dtree = Node(X, y, np.array(np.arange(len(y))), min_leaf)\n",
        "    return self\n",
        "  \n",
        "  def predict(self, X):\n",
        "    return self.dtree.predict(X.values)\n",
        "    "
      ]
    },
    {
      "cell_type": "markdown",
      "metadata": {
        "colab_type": "text",
        "id": "bo-WXSmDuTy3"
      },
      "source": [
        "# Evaluation"
      ]
    },
    {
      "cell_type": "code",
      "execution_count": null,
      "metadata": {
        "colab": {},
        "colab_type": "code",
        "id": "EOZ12otNsNE_"
      },
      "outputs": [],
      "source": [
        "regressor = DecisionTreeRegressor().fit(X, y)\n",
        "preds = regressor.predict(X)"
      ]
    },
    {
      "cell_type": "code",
      "execution_count": null,
      "metadata": {
        "colab": {
          "base_uri": "https://localhost:8080/",
          "height": 34
        },
        "colab_type": "code",
        "id": "lEJASz_k5yxl",
        "outputId": "95675657-408e-435c-881f-10b21cc0ab87"
      },
      "outputs": [
        {
          "data": {
            "text/plain": [
              "0.8504381072711565"
            ]
          },
          "execution_count": 13,
          "metadata": {
            "tags": []
          },
          "output_type": "execute_result"
        }
      ],
      "source": [
        "metrics.r2_score(y, preds)"
      ]
    },
    {
      "cell_type": "code",
      "execution_count": null,
      "metadata": {
        "colab": {
          "base_uri": "https://localhost:8080/",
          "height": 34
        },
        "colab_type": "code",
        "id": "OJmGr7Zr578G",
        "outputId": "084dd022-8afc-4695-f112-89b72b54948a"
      },
      "outputs": [
        {
          "data": {
            "text/plain": [
              "30712.460628635836"
            ]
          },
          "execution_count": 14,
          "metadata": {
            "tags": []
          },
          "output_type": "execute_result"
        }
      ],
      "source": [
        "rmse(preds, y)"
      ]
    }
  ],
  "metadata": {
    "colab": {
      "collapsed_sections": [],
      "name": "3.decision_trees.ipynb",
      "provenance": [],
      "version": "0.3.2"
    },
    "kernelspec": {
      "display_name": "Python 3",
      "name": "python3"
    }
  },
  "nbformat": 4,
  "nbformat_minor": 0
}
